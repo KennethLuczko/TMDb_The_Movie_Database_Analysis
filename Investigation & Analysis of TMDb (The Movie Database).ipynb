{
 "cells": [
  {
   "cell_type": "markdown",
   "metadata": {},
   "source": [
    "#Investigation & Analysis of TMDb (The Movie Database)\n",
    "\n",
    "## Table of Contents\n",
    "<ul>\n",
    "<li><a href=\"#intro\">Introduction</a></li>\n",
    "<li><a href=\"#wrangling\">Data Wrangling</a></li>\n",
    "<li><a href=\"#eda\">Exploratory Data Analysis</a></li>\n",
    "<li><a href=\"#cf\">Conclusions & Findings</a></li>\n",
    "</ul>"
   ]
  },
  {
   "cell_type": "markdown",
   "metadata": {},
   "source": [
    "<a id='intro'></a>\n",
    "## Introduction\n",
    "\n",
    " **Questions**\n",
    "><ul>\n",
    "    <li> What is the relationship between budget and revenue? (Does budget play a large role in revenue?)</li>\n",
    "    <lI>Does runtime increase or decrease revenue? Does budget have an effect on runtime?</li>\n",
    "     <ul>\n",
    "        <li>What is the distribution of runtime across all movies?</li>\n",
    "    </ul>\n",
    "    <lI>Who is the most active (# of movies created) director?</li>\n",
    "    <ul>\n",
    "        <li>How does that director relate to the relationships between budget, revenue, and runtime?</li>\n",
    "    </ul>\n",
    "></ul>"
   ]
  },
  {
   "cell_type": "code",
   "execution_count": 1,
   "metadata": {},
   "outputs": [],
   "source": [
    "#imports\n",
    "import pandas as pd\n",
    "import numpy as np\n",
    "import matplotlib.pyplot as plt\n",
    "import matplotlib as mpl\n",
    "mpl.style.use('ggplot')"
   ]
  },
  {
   "cell_type": "markdown",
   "metadata": {},
   "source": [
    "<a id='wrangling'></a>\n",
    "## Data Wrangling"
   ]
  },
  {
   "cell_type": "code",
   "execution_count": 2,
   "metadata": {
    "scrolled": true
   },
   "outputs": [
    {
     "data": {
      "text/html": [
       "<div>\n",
       "<style scoped>\n",
       "    .dataframe tbody tr th:only-of-type {\n",
       "        vertical-align: middle;\n",
       "    }\n",
       "\n",
       "    .dataframe tbody tr th {\n",
       "        vertical-align: top;\n",
       "    }\n",
       "\n",
       "    .dataframe thead th {\n",
       "        text-align: right;\n",
       "    }\n",
       "</style>\n",
       "<table border=\"1\" class=\"dataframe\">\n",
       "  <thead>\n",
       "    <tr style=\"text-align: right;\">\n",
       "      <th></th>\n",
       "      <th>id</th>\n",
       "      <th>imdb_id</th>\n",
       "      <th>popularity</th>\n",
       "      <th>budget</th>\n",
       "      <th>revenue</th>\n",
       "      <th>original_title</th>\n",
       "      <th>cast</th>\n",
       "      <th>homepage</th>\n",
       "      <th>director</th>\n",
       "      <th>tagline</th>\n",
       "      <th>...</th>\n",
       "      <th>overview</th>\n",
       "      <th>runtime</th>\n",
       "      <th>genres</th>\n",
       "      <th>production_companies</th>\n",
       "      <th>release_date</th>\n",
       "      <th>vote_count</th>\n",
       "      <th>vote_average</th>\n",
       "      <th>release_year</th>\n",
       "      <th>budget_adj</th>\n",
       "      <th>revenue_adj</th>\n",
       "    </tr>\n",
       "  </thead>\n",
       "  <tbody>\n",
       "    <tr>\n",
       "      <th>0</th>\n",
       "      <td>135397</td>\n",
       "      <td>tt0369610</td>\n",
       "      <td>32.985763</td>\n",
       "      <td>150000000</td>\n",
       "      <td>1513528810</td>\n",
       "      <td>Jurassic World</td>\n",
       "      <td>Chris Pratt|Bryce Dallas Howard|Irrfan Khan|Vi...</td>\n",
       "      <td>http://www.jurassicworld.com/</td>\n",
       "      <td>Colin Trevorrow</td>\n",
       "      <td>The park is open.</td>\n",
       "      <td>...</td>\n",
       "      <td>Twenty-two years after the events of Jurassic ...</td>\n",
       "      <td>124</td>\n",
       "      <td>Action|Adventure|Science Fiction|Thriller</td>\n",
       "      <td>Universal Studios|Amblin Entertainment|Legenda...</td>\n",
       "      <td>6/9/15</td>\n",
       "      <td>5562</td>\n",
       "      <td>6.5</td>\n",
       "      <td>2015</td>\n",
       "      <td>1.379999e+08</td>\n",
       "      <td>1.392446e+09</td>\n",
       "    </tr>\n",
       "    <tr>\n",
       "      <th>1</th>\n",
       "      <td>76341</td>\n",
       "      <td>tt1392190</td>\n",
       "      <td>28.419936</td>\n",
       "      <td>150000000</td>\n",
       "      <td>378436354</td>\n",
       "      <td>Mad Max: Fury Road</td>\n",
       "      <td>Tom Hardy|Charlize Theron|Hugh Keays-Byrne|Nic...</td>\n",
       "      <td>http://www.madmaxmovie.com/</td>\n",
       "      <td>George Miller</td>\n",
       "      <td>What a Lovely Day.</td>\n",
       "      <td>...</td>\n",
       "      <td>An apocalyptic story set in the furthest reach...</td>\n",
       "      <td>120</td>\n",
       "      <td>Action|Adventure|Science Fiction|Thriller</td>\n",
       "      <td>Village Roadshow Pictures|Kennedy Miller Produ...</td>\n",
       "      <td>5/13/15</td>\n",
       "      <td>6185</td>\n",
       "      <td>7.1</td>\n",
       "      <td>2015</td>\n",
       "      <td>1.379999e+08</td>\n",
       "      <td>3.481613e+08</td>\n",
       "    </tr>\n",
       "  </tbody>\n",
       "</table>\n",
       "<p>2 rows × 21 columns</p>\n",
       "</div>"
      ],
      "text/plain": [
       "       id    imdb_id  popularity     budget     revenue      original_title  \\\n",
       "0  135397  tt0369610   32.985763  150000000  1513528810      Jurassic World   \n",
       "1   76341  tt1392190   28.419936  150000000   378436354  Mad Max: Fury Road   \n",
       "\n",
       "                                                cast  \\\n",
       "0  Chris Pratt|Bryce Dallas Howard|Irrfan Khan|Vi...   \n",
       "1  Tom Hardy|Charlize Theron|Hugh Keays-Byrne|Nic...   \n",
       "\n",
       "                        homepage         director             tagline  ...  \\\n",
       "0  http://www.jurassicworld.com/  Colin Trevorrow   The park is open.  ...   \n",
       "1    http://www.madmaxmovie.com/    George Miller  What a Lovely Day.  ...   \n",
       "\n",
       "                                            overview runtime  \\\n",
       "0  Twenty-two years after the events of Jurassic ...     124   \n",
       "1  An apocalyptic story set in the furthest reach...     120   \n",
       "\n",
       "                                      genres  \\\n",
       "0  Action|Adventure|Science Fiction|Thriller   \n",
       "1  Action|Adventure|Science Fiction|Thriller   \n",
       "\n",
       "                                production_companies release_date vote_count  \\\n",
       "0  Universal Studios|Amblin Entertainment|Legenda...       6/9/15       5562   \n",
       "1  Village Roadshow Pictures|Kennedy Miller Produ...      5/13/15       6185   \n",
       "\n",
       "   vote_average  release_year    budget_adj   revenue_adj  \n",
       "0           6.5          2015  1.379999e+08  1.392446e+09  \n",
       "1           7.1          2015  1.379999e+08  3.481613e+08  \n",
       "\n",
       "[2 rows x 21 columns]"
      ]
     },
     "execution_count": 2,
     "metadata": {},
     "output_type": "execute_result"
    }
   ],
   "source": [
    "#load csv and check if it works\n",
    "df = pd.read_csv('tmdb_movies.csv')\n",
    "df.head(2)"
   ]
  },
  {
   "cell_type": "markdown",
   "metadata": {},
   "source": [
    "### Data Cleaning"
   ]
  },
  {
   "cell_type": "markdown",
   "metadata": {},
   "source": [
    "First, we will check to see if there are any duplicates in our data set."
   ]
  },
  {
   "cell_type": "code",
   "execution_count": 3,
   "metadata": {},
   "outputs": [
    {
     "name": "stdout",
     "output_type": "stream",
     "text": [
      "Number of duplicates: 1\n"
     ]
    }
   ],
   "source": [
    "#check number of duplicates and delete them\n",
    "print(\"Number of duplicates:\", df.duplicated().sum())\n",
    "df.drop_duplicates(inplace=True)\n"
   ]
  },
  {
   "cell_type": "markdown",
   "metadata": {},
   "source": [
    "There is only 1 duplicate in the data set, but we can drop it to ensure we have no duplicates."
   ]
  },
  {
   "cell_type": "code",
   "execution_count": 4,
   "metadata": {},
   "outputs": [
    {
     "name": "stdout",
     "output_type": "stream",
     "text": [
      "Number of duplicates after dropping: 0\n"
     ]
    }
   ],
   "source": [
    "#check nubmer of duplicates after deleting them\n",
    "print(\"Number of duplicates after dropping:\", df.duplicated().sum())"
   ]
  },
  {
   "cell_type": "markdown",
   "metadata": {},
   "source": [
    "Some columns are not necessary for the questions that we wish to answer. For example, the following columns are not useful: **vote_count, vote_average, popularity, genres, id, imdb_id, cast, homepage, tagline, overview, production_companies, release_date, keywords, release_year, and original_title** to answer questions about **Revenue, Directors, and Budget.**"
   ]
  },
  {
   "cell_type": "code",
   "execution_count": 5,
   "metadata": {
    "scrolled": true
   },
   "outputs": [],
   "source": [
    "#drop columns that will not be needed to answer questions above\n",
    "df.drop(['vote_count', 'vote_average', 'popularity','genres','id', 'imdb_id', 'cast', 'homepage', 'tagline', 'overview', 'production_companies', 'release_date', 'keywords', 'release_year', 'original_title'], axis=1, inplace=True)"
   ]
  },
  {
   "cell_type": "code",
   "execution_count": 6,
   "metadata": {
    "scrolled": true
   },
   "outputs": [
    {
     "data": {
      "text/html": [
       "<div>\n",
       "<style scoped>\n",
       "    .dataframe tbody tr th:only-of-type {\n",
       "        vertical-align: middle;\n",
       "    }\n",
       "\n",
       "    .dataframe tbody tr th {\n",
       "        vertical-align: top;\n",
       "    }\n",
       "\n",
       "    .dataframe thead th {\n",
       "        text-align: right;\n",
       "    }\n",
       "</style>\n",
       "<table border=\"1\" class=\"dataframe\">\n",
       "  <thead>\n",
       "    <tr style=\"text-align: right;\">\n",
       "      <th></th>\n",
       "      <th>budget</th>\n",
       "      <th>revenue</th>\n",
       "      <th>director</th>\n",
       "      <th>runtime</th>\n",
       "      <th>budget_adj</th>\n",
       "      <th>revenue_adj</th>\n",
       "    </tr>\n",
       "  </thead>\n",
       "  <tbody>\n",
       "    <tr>\n",
       "      <th>0</th>\n",
       "      <td>150000000</td>\n",
       "      <td>1513528810</td>\n",
       "      <td>Colin Trevorrow</td>\n",
       "      <td>124</td>\n",
       "      <td>1.379999e+08</td>\n",
       "      <td>1.392446e+09</td>\n",
       "    </tr>\n",
       "    <tr>\n",
       "      <th>1</th>\n",
       "      <td>150000000</td>\n",
       "      <td>378436354</td>\n",
       "      <td>George Miller</td>\n",
       "      <td>120</td>\n",
       "      <td>1.379999e+08</td>\n",
       "      <td>3.481613e+08</td>\n",
       "    </tr>\n",
       "  </tbody>\n",
       "</table>\n",
       "</div>"
      ],
      "text/plain": [
       "      budget     revenue         director  runtime    budget_adj   revenue_adj\n",
       "0  150000000  1513528810  Colin Trevorrow      124  1.379999e+08  1.392446e+09\n",
       "1  150000000   378436354    George Miller      120  1.379999e+08  3.481613e+08"
      ]
     },
     "execution_count": 6,
     "metadata": {},
     "output_type": "execute_result"
    }
   ],
   "source": [
    "#check if drop worked\n",
    "df.head(2)"
   ]
  },
  {
   "cell_type": "markdown",
   "metadata": {},
   "source": [
    "We will now check for any empty values and come up with some sort of solution for those."
   ]
  },
  {
   "cell_type": "code",
   "execution_count": 7,
   "metadata": {
    "scrolled": true
   },
   "outputs": [
    {
     "name": "stdout",
     "output_type": "stream",
     "text": [
      "<class 'pandas.core.frame.DataFrame'>\n",
      "Int64Index: 10865 entries, 0 to 10865\n",
      "Data columns (total 6 columns):\n",
      " #   Column       Non-Null Count  Dtype  \n",
      "---  ------       --------------  -----  \n",
      " 0   budget       10865 non-null  int64  \n",
      " 1   revenue      10865 non-null  int64  \n",
      " 2   director     10821 non-null  object \n",
      " 3   runtime      10865 non-null  int64  \n",
      " 4   budget_adj   10865 non-null  float64\n",
      " 5   revenue_adj  10865 non-null  float64\n",
      "dtypes: float64(2), int64(3), object(1)\n",
      "memory usage: 594.2+ KB\n"
     ]
    }
   ],
   "source": [
    "#check for empty values\n",
    "df.info()"
   ]
  },
  {
   "cell_type": "markdown",
   "metadata": {},
   "source": [
    "10865 is the total number of rows that we have data for. There seem to be missing values in **Director**.\n",
    "First, we will compare the total data to the data in the missing value column."
   ]
  },
  {
   "cell_type": "code",
   "execution_count": 9,
   "metadata": {
    "scrolled": false
   },
   "outputs": [
    {
     "data": {
      "image/png": "[encoded data removed]",
      "text/plain": [
       "<Figure size 720x720 with 6 Axes>"
      ]
     },
     "metadata": {},
     "output_type": "display_data"
    }
   ],
   "source": [
    "#histogram of all data\n",
    "df.hist(figsize=[10,10]);\n",
    "plt.savefig('histogram_all_data.png')"
   ]
  },
  {
   "cell_type": "code",
   "execution_count": 10,
   "metadata": {
    "scrolled": false
   },
   "outputs": [
    {
     "data": {
      "image/png": "[encoded data removed]",
      "text/plain": [
       "<Figure size 720x720 with 6 Axes>"
      ]
     },
     "metadata": {},
     "output_type": "display_data"
    }
   ],
   "source": [
    "#histogram of null director column data\n",
    "df[df.director.isnull()].hist(figsize=(10,10));\n",
    "plt.savefig('histogram_null_director_data.png')"
   ]
  },
  {
   "cell_type": "markdown",
   "metadata": {},
   "source": [
    "The missing values in **Director** seem to be consistent with the values of the original dataframe."
   ]
  },
  {
   "cell_type": "code",
   "execution_count": 11,
   "metadata": {},
   "outputs": [
    {
     "name": "stdout",
     "output_type": "stream",
     "text": [
      "The missing values consist of 0.40497008743672336 % of the rows in the Director column.\n"
     ]
    }
   ],
   "source": [
    "#check for % of missing values to see if it is reasonable to just drop the missing rows\n",
    "total_rows = 10865\n",
    "director_rows = 10821\n",
    "director_total_missing = total_rows - director_rows\n",
    "\n",
    "print(\"The missing values consist of\", director_total_missing / total_rows * 100, \"% of the rows in the Director column.\")"
   ]
  },
  {
   "cell_type": "markdown",
   "metadata": {},
   "source": [
    "Additionally, the missing value consists of only .4% of the total original data. This conclusion and the previous histograms seem to indicate that it will be okay to drop the missing rows."
   ]
  },
  {
   "cell_type": "code",
   "execution_count": 12,
   "metadata": {},
   "outputs": [],
   "source": [
    "#drop missing value rows\n",
    "df.dropna(inplace=True)"
   ]
  },
  {
   "cell_type": "code",
   "execution_count": 13,
   "metadata": {},
   "outputs": [
    {
     "name": "stdout",
     "output_type": "stream",
     "text": [
      "<class 'pandas.core.frame.DataFrame'>\n",
      "Int64Index: 10821 entries, 0 to 10865\n",
      "Data columns (total 6 columns):\n",
      " #   Column       Non-Null Count  Dtype  \n",
      "---  ------       --------------  -----  \n",
      " 0   budget       10821 non-null  int64  \n",
      " 1   revenue      10821 non-null  int64  \n",
      " 2   director     10821 non-null  object \n",
      " 3   runtime      10821 non-null  int64  \n",
      " 4   budget_adj   10821 non-null  float64\n",
      " 5   revenue_adj  10821 non-null  float64\n",
      "dtypes: float64(2), int64(3), object(1)\n",
      "memory usage: 591.8+ KB\n"
     ]
    }
   ],
   "source": [
    "#check to see if we are consistent in regards to # of rows\n",
    "df.info()"
   ]
  },
  {
   "cell_type": "markdown",
   "metadata": {},
   "source": [
    "We now are consistent in our data set and have a total of 10821 rows."
   ]
  },
  {
   "cell_type": "code",
   "execution_count": 14,
   "metadata": {
    "scrolled": true
   },
   "outputs": [
    {
     "data": {
      "text/html": [
       "<div>\n",
       "<style scoped>\n",
       "    .dataframe tbody tr th:only-of-type {\n",
       "        vertical-align: middle;\n",
       "    }\n",
       "\n",
       "    .dataframe tbody tr th {\n",
       "        vertical-align: top;\n",
       "    }\n",
       "\n",
       "    .dataframe thead th {\n",
       "        text-align: right;\n",
       "    }\n",
       "</style>\n",
       "<table border=\"1\" class=\"dataframe\">\n",
       "  <thead>\n",
       "    <tr style=\"text-align: right;\">\n",
       "      <th></th>\n",
       "      <th>budget</th>\n",
       "      <th>revenue</th>\n",
       "      <th>runtime</th>\n",
       "      <th>budget_adj</th>\n",
       "      <th>revenue_adj</th>\n",
       "    </tr>\n",
       "  </thead>\n",
       "  <tbody>\n",
       "    <tr>\n",
       "      <th>count</th>\n",
       "      <td>1.082100e+04</td>\n",
       "      <td>1.082100e+04</td>\n",
       "      <td>10821.000000</td>\n",
       "      <td>1.082100e+04</td>\n",
       "      <td>1.082100e+04</td>\n",
       "    </tr>\n",
       "    <tr>\n",
       "      <th>mean</th>\n",
       "      <td>1.468259e+07</td>\n",
       "      <td>3.998782e+07</td>\n",
       "      <td>102.130302</td>\n",
       "      <td>1.762011e+07</td>\n",
       "      <td>5.157685e+07</td>\n",
       "    </tr>\n",
       "    <tr>\n",
       "      <th>std</th>\n",
       "      <td>3.096345e+07</td>\n",
       "      <td>1.172186e+08</td>\n",
       "      <td>30.872755</td>\n",
       "      <td>3.435943e+07</td>\n",
       "      <td>1.448953e+08</td>\n",
       "    </tr>\n",
       "    <tr>\n",
       "      <th>min</th>\n",
       "      <td>0.000000e+00</td>\n",
       "      <td>0.000000e+00</td>\n",
       "      <td>0.000000</td>\n",
       "      <td>0.000000e+00</td>\n",
       "      <td>0.000000e+00</td>\n",
       "    </tr>\n",
       "    <tr>\n",
       "      <th>25%</th>\n",
       "      <td>0.000000e+00</td>\n",
       "      <td>0.000000e+00</td>\n",
       "      <td>90.000000</td>\n",
       "      <td>0.000000e+00</td>\n",
       "      <td>0.000000e+00</td>\n",
       "    </tr>\n",
       "    <tr>\n",
       "      <th>50%</th>\n",
       "      <td>0.000000e+00</td>\n",
       "      <td>0.000000e+00</td>\n",
       "      <td>99.000000</td>\n",
       "      <td>0.000000e+00</td>\n",
       "      <td>0.000000e+00</td>\n",
       "    </tr>\n",
       "    <tr>\n",
       "      <th>75%</th>\n",
       "      <td>1.500000e+07</td>\n",
       "      <td>2.433232e+07</td>\n",
       "      <td>111.000000</td>\n",
       "      <td>2.099042e+07</td>\n",
       "      <td>3.398486e+07</td>\n",
       "    </tr>\n",
       "    <tr>\n",
       "      <th>max</th>\n",
       "      <td>4.250000e+08</td>\n",
       "      <td>2.781506e+09</td>\n",
       "      <td>900.000000</td>\n",
       "      <td>4.250000e+08</td>\n",
       "      <td>2.827124e+09</td>\n",
       "    </tr>\n",
       "  </tbody>\n",
       "</table>\n",
       "</div>"
      ],
      "text/plain": [
       "             budget       revenue       runtime    budget_adj   revenue_adj\n",
       "count  1.082100e+04  1.082100e+04  10821.000000  1.082100e+04  1.082100e+04\n",
       "mean   1.468259e+07  3.998782e+07    102.130302  1.762011e+07  5.157685e+07\n",
       "std    3.096345e+07  1.172186e+08     30.872755  3.435943e+07  1.448953e+08\n",
       "min    0.000000e+00  0.000000e+00      0.000000  0.000000e+00  0.000000e+00\n",
       "25%    0.000000e+00  0.000000e+00     90.000000  0.000000e+00  0.000000e+00\n",
       "50%    0.000000e+00  0.000000e+00     99.000000  0.000000e+00  0.000000e+00\n",
       "75%    1.500000e+07  2.433232e+07    111.000000  2.099042e+07  3.398486e+07\n",
       "max    4.250000e+08  2.781506e+09    900.000000  4.250000e+08  2.827124e+09"
      ]
     },
     "execution_count": 14,
     "metadata": {},
     "output_type": "execute_result"
    }
   ],
   "source": [
    "#check for values of 0\n",
    "df.describe()"
   ]
  },
  {
   "cell_type": "markdown",
   "metadata": {},
   "source": [
    "**Budget, Revenue, Budget_adj, Runtime and Revenue_adj** all seem to have some values of 0. We should obtain the average of each column and fill out any 0 values with this result."
   ]
  },
  {
   "cell_type": "code",
   "execution_count": 15,
   "metadata": {},
   "outputs": [],
   "source": [
    "#fix values of 0 by replacing 0's with the average of that column\n",
    "budget_mean = df['budget'].mean()\n",
    "df['budget'] = df['budget'].replace(0, budget_mean)\n",
    "\n",
    "budget_adj_mean = df['budget_adj'].mean()\n",
    "df['budget_adj'] = df['budget_adj'].replace(0, budget_adj_mean)\n",
    "\n",
    "revenue_mean = df['revenue'].mean()\n",
    "df['revenue'] = df['revenue'].replace(0, revenue_mean)\n",
    "\n",
    "revenue_adj_mean = df['revenue_adj'].mean()\n",
    "df['revenue_adj'] = df['revenue_adj'].replace(0, revenue_adj_mean)\n",
    "\n",
    "runtime_mean = df['runtime'].mean()\n",
    "df['runtime'] = df['runtime'].replace(0, runtime_mean)"
   ]
  },
  {
   "cell_type": "code",
   "execution_count": 16,
   "metadata": {
    "scrolled": false
   },
   "outputs": [
    {
     "data": {
      "text/html": [
       "<div>\n",
       "<style scoped>\n",
       "    .dataframe tbody tr th:only-of-type {\n",
       "        vertical-align: middle;\n",
       "    }\n",
       "\n",
       "    .dataframe tbody tr th {\n",
       "        vertical-align: top;\n",
       "    }\n",
       "\n",
       "    .dataframe thead th {\n",
       "        text-align: right;\n",
       "    }\n",
       "</style>\n",
       "<table border=\"1\" class=\"dataframe\">\n",
       "  <thead>\n",
       "    <tr style=\"text-align: right;\">\n",
       "      <th></th>\n",
       "      <th>budget</th>\n",
       "      <th>revenue</th>\n",
       "      <th>runtime</th>\n",
       "      <th>budget_adj</th>\n",
       "      <th>revenue_adj</th>\n",
       "    </tr>\n",
       "  </thead>\n",
       "  <tbody>\n",
       "    <tr>\n",
       "      <th>count</th>\n",
       "      <td>1.082100e+04</td>\n",
       "      <td>1.082100e+04</td>\n",
       "      <td>10821.000000</td>\n",
       "      <td>1.082100e+04</td>\n",
       "      <td>1.082100e+04</td>\n",
       "    </tr>\n",
       "    <tr>\n",
       "      <th>mean</th>\n",
       "      <td>2.235699e+07</td>\n",
       "      <td>6.206039e+07</td>\n",
       "      <td>102.404009</td>\n",
       "      <td>2.682992e+07</td>\n",
       "      <td>8.004635e+07</td>\n",
       "    </tr>\n",
       "    <tr>\n",
       "      <th>std</th>\n",
       "      <td>2.805607e+07</td>\n",
       "      <td>1.112216e+08</td>\n",
       "      <td>30.415387</td>\n",
       "      <td>3.055240e+07</td>\n",
       "      <td>1.368048e+08</td>\n",
       "    </tr>\n",
       "    <tr>\n",
       "      <th>min</th>\n",
       "      <td>1.000000e+00</td>\n",
       "      <td>2.000000e+00</td>\n",
       "      <td>2.000000</td>\n",
       "      <td>9.210911e-01</td>\n",
       "      <td>2.370705e+00</td>\n",
       "    </tr>\n",
       "    <tr>\n",
       "      <th>25%</th>\n",
       "      <td>1.468259e+07</td>\n",
       "      <td>3.998782e+07</td>\n",
       "      <td>90.000000</td>\n",
       "      <td>1.762011e+07</td>\n",
       "      <td>5.157685e+07</td>\n",
       "    </tr>\n",
       "    <tr>\n",
       "      <th>50%</th>\n",
       "      <td>1.468259e+07</td>\n",
       "      <td>3.998782e+07</td>\n",
       "      <td>99.000000</td>\n",
       "      <td>1.762011e+07</td>\n",
       "      <td>5.157685e+07</td>\n",
       "    </tr>\n",
       "    <tr>\n",
       "      <th>75%</th>\n",
       "      <td>1.500000e+07</td>\n",
       "      <td>3.998782e+07</td>\n",
       "      <td>111.000000</td>\n",
       "      <td>2.099042e+07</td>\n",
       "      <td>5.157685e+07</td>\n",
       "    </tr>\n",
       "    <tr>\n",
       "      <th>max</th>\n",
       "      <td>4.250000e+08</td>\n",
       "      <td>2.781506e+09</td>\n",
       "      <td>900.000000</td>\n",
       "      <td>4.250000e+08</td>\n",
       "      <td>2.827124e+09</td>\n",
       "    </tr>\n",
       "  </tbody>\n",
       "</table>\n",
       "</div>"
      ],
      "text/plain": [
       "             budget       revenue       runtime    budget_adj   revenue_adj\n",
       "count  1.082100e+04  1.082100e+04  10821.000000  1.082100e+04  1.082100e+04\n",
       "mean   2.235699e+07  6.206039e+07    102.404009  2.682992e+07  8.004635e+07\n",
       "std    2.805607e+07  1.112216e+08     30.415387  3.055240e+07  1.368048e+08\n",
       "min    1.000000e+00  2.000000e+00      2.000000  9.210911e-01  2.370705e+00\n",
       "25%    1.468259e+07  3.998782e+07     90.000000  1.762011e+07  5.157685e+07\n",
       "50%    1.468259e+07  3.998782e+07     99.000000  1.762011e+07  5.157685e+07\n",
       "75%    1.500000e+07  3.998782e+07    111.000000  2.099042e+07  5.157685e+07\n",
       "max    4.250000e+08  2.781506e+09    900.000000  4.250000e+08  2.827124e+09"
      ]
     },
     "execution_count": 16,
     "metadata": {},
     "output_type": "execute_result"
    }
   ],
   "source": [
    "#check to see if 0's are no longer missing\n",
    "df.describe()"
   ]
  },
  {
   "cell_type": "markdown",
   "metadata": {},
   "source": [
    "Finally, we should check if there are any \"bad\" datatypes for the set of data that we will be working with."
   ]
  },
  {
   "cell_type": "code",
   "execution_count": 17,
   "metadata": {},
   "outputs": [
    {
     "name": "stdout",
     "output_type": "stream",
     "text": [
      "<class 'pandas.core.frame.DataFrame'>\n",
      "Int64Index: 10821 entries, 0 to 10865\n",
      "Data columns (total 6 columns):\n",
      " #   Column       Non-Null Count  Dtype  \n",
      "---  ------       --------------  -----  \n",
      " 0   budget       10821 non-null  float64\n",
      " 1   revenue      10821 non-null  float64\n",
      " 2   director     10821 non-null  object \n",
      " 3   runtime      10821 non-null  float64\n",
      " 4   budget_adj   10821 non-null  float64\n",
      " 5   revenue_adj  10821 non-null  float64\n",
      "dtypes: float64(5), object(1)\n",
      "memory usage: 591.8+ KB\n"
     ]
    }
   ],
   "source": [
    "#check for bad datatypes\n",
    "df.info()"
   ]
  },
  {
   "cell_type": "markdown",
   "metadata": {},
   "source": [
    "Everything seems to have the appropriate data type. Let's save this to a new csv file so we can work with only the edited data."
   ]
  },
  {
   "cell_type": "code",
   "execution_count": 18,
   "metadata": {},
   "outputs": [],
   "source": [
    "#save cleaned dataframe as new csv\n",
    "df.to_csv('tmdb_movies_edited.csv', index=False)"
   ]
  },
  {
   "cell_type": "markdown",
   "metadata": {},
   "source": [
    "Check to see if it worked and set it to a new dataframe."
   ]
  },
  {
   "cell_type": "code",
   "execution_count": 19,
   "metadata": {
    "scrolled": false
   },
   "outputs": [
    {
     "data": {
      "text/html": [
       "<div>\n",
       "<style scoped>\n",
       "    .dataframe tbody tr th:only-of-type {\n",
       "        vertical-align: middle;\n",
       "    }\n",
       "\n",
       "    .dataframe tbody tr th {\n",
       "        vertical-align: top;\n",
       "    }\n",
       "\n",
       "    .dataframe thead th {\n",
       "        text-align: right;\n",
       "    }\n",
       "</style>\n",
       "<table border=\"1\" class=\"dataframe\">\n",
       "  <thead>\n",
       "    <tr style=\"text-align: right;\">\n",
       "      <th></th>\n",
       "      <th>budget</th>\n",
       "      <th>revenue</th>\n",
       "      <th>director</th>\n",
       "      <th>runtime</th>\n",
       "      <th>budget_adj</th>\n",
       "      <th>revenue_adj</th>\n",
       "    </tr>\n",
       "  </thead>\n",
       "  <tbody>\n",
       "    <tr>\n",
       "      <th>0</th>\n",
       "      <td>150000000.0</td>\n",
       "      <td>1.513529e+09</td>\n",
       "      <td>Colin Trevorrow</td>\n",
       "      <td>124.0</td>\n",
       "      <td>1.379999e+08</td>\n",
       "      <td>1.392446e+09</td>\n",
       "    </tr>\n",
       "    <tr>\n",
       "      <th>1</th>\n",
       "      <td>150000000.0</td>\n",
       "      <td>3.784364e+08</td>\n",
       "      <td>George Miller</td>\n",
       "      <td>120.0</td>\n",
       "      <td>1.379999e+08</td>\n",
       "      <td>3.481613e+08</td>\n",
       "    </tr>\n",
       "  </tbody>\n",
       "</table>\n",
       "</div>"
      ],
      "text/plain": [
       "        budget       revenue         director  runtime    budget_adj  \\\n",
       "0  150000000.0  1.513529e+09  Colin Trevorrow    124.0  1.379999e+08   \n",
       "1  150000000.0  3.784364e+08    George Miller    120.0  1.379999e+08   \n",
       "\n",
       "    revenue_adj  \n",
       "0  1.392446e+09  \n",
       "1  3.481613e+08  "
      ]
     },
     "execution_count": 19,
     "metadata": {},
     "output_type": "execute_result"
    }
   ],
   "source": [
    "#import new csv and check to see if it worked\n",
    "df_edited = pd.read_csv('tmdb_movies_edited.csv')\n",
    "df_edited.head(2)"
   ]
  },
  {
   "cell_type": "markdown",
   "metadata": {},
   "source": [
    "<a id='eda'></a>\n",
    "## Exploratory Data Analysis\n",
    "\n",
    "### What is the relationship between budget and revenue? (Does budget play a large role in revenue?)"
   ]
  },
  {
   "cell_type": "markdown",
   "metadata": {},
   "source": [
    "The first that we should do is plot the relationship between budget and revenue."
   ]
  },
  {
   "cell_type": "code",
   "execution_count": 20,
   "metadata": {
    "scrolled": true
   },
   "outputs": [
    {
     "data": {
      "image/png": "[encoded data removed]",
      "text/plain": [
       "<Figure size 360x360 with 1 Axes>"
      ]
     },
     "metadata": {},
     "output_type": "display_data"
    }
   ],
   "source": [
    "#plot the relationship between budget and revenue\n",
    "df_edited.plot(x='budget', y='revenue', kind='scatter', figsize=[5,5])\n",
    "\n",
    "plt.title('Budget vs Revenue', color='blue')\n",
    "plt.xlabel('Budget Available')\n",
    "plt.ylabel('Revenue Generated')\n",
    "plt.savefig('budget_revenue.png');"
   ]
  },
  {
   "cell_type": "markdown",
   "metadata": {},
   "source": [
    "It seems like having a larger budget does not mean you will see larger revenue numbers, but lets adjust for inflation just to make sure."
   ]
  },
  {
   "cell_type": "code",
   "execution_count": 21,
   "metadata": {},
   "outputs": [
    {
     "data": {
      "image/png": "[encoded data removed]",
      "text/plain": [
       "<Figure size 360x360 with 1 Axes>"
      ]
     },
     "metadata": {},
     "output_type": "display_data"
    }
   ],
   "source": [
    "#plot the relationship between budget and revenue when adjusted for inflation\n",
    "df_edited.plot(x='budget_adj', y='revenue_adj', kind='scatter', figsize=[5,5])\n",
    "\n",
    "plt.title('Budget vs Revenue', color='blue')\n",
    "plt.suptitle('Adjusted for Inflation', color='green')\n",
    "plt.xlabel('Budget Available')\n",
    "plt.ylabel('Revenue Generated')\n",
    "plt.savefig('budget_revenue_inflation.png');"
   ]
  },
  {
   "cell_type": "markdown",
   "metadata": {},
   "source": [
    "Not only is our previous statement true. *\"Having a larger budget does not mean you will see larger revenue numbers...\"*, but in fact it seems that there are many movies that actually were more successful (in regards to revenue) on a lower budget when adjusted for inflation!"
   ]
  },
  {
   "cell_type": "markdown",
   "metadata": {},
   "source": [
    "### Does runtime increase or decrease revenue? Does budget have an effect on runtime?"
   ]
  },
  {
   "cell_type": "code",
   "execution_count": 22,
   "metadata": {
    "scrolled": false
   },
   "outputs": [
    {
     "data": {
      "image/png": "[encoded data removed]",
      "text/plain": [
       "<Figure size 360x360 with 1 Axes>"
      ]
     },
     "metadata": {},
     "output_type": "display_data"
    }
   ],
   "source": [
    "#plot the relationship between runtime and revenue\n",
    "df_edited.plot(x='runtime', y='revenue', kind='scatter', figsize=[5,5])\n",
    "\n",
    "plt.title('Runtime vs Revenue', color='blue')\n",
    "plt.xlabel('Runtime (minutes)')\n",
    "plt.ylabel('Revenue Generated')\n",
    "plt.savefig('runtime_revenue.png');"
   ]
  },
  {
   "cell_type": "markdown",
   "metadata": {},
   "source": [
    "Runtime does seem to have an effect on revenue. Movies that have a runtime of **less than 90 minutes** make **SIGNIFICANTLY** less revenue. Movies that have a runtime of **more than 200 minutes** make **SIGNIFICANTLY** less revenue. The sweet spot for generating the most revenue seems to be around the median for runtime which happens to be around **100 minutes** (1 hour, 30 minutes)."
   ]
  },
  {
   "cell_type": "markdown",
   "metadata": {},
   "source": [
    "Let's get an idea of the runtime distribution of movies in our dataframe."
   ]
  },
  {
   "cell_type": "code",
   "execution_count": 23,
   "metadata": {},
   "outputs": [
    {
     "data": {
      "image/png": "[encoded data removed]",
      "text/plain": [
       "<Figure size 432x288 with 1 Axes>"
      ]
     },
     "metadata": {},
     "output_type": "display_data"
    }
   ],
   "source": [
    "#plot the runtime distribution of all movies\n",
    "plt.hist(df_edited['runtime'], bins =20);\n",
    "plt.title('Runtime Distribution of Movies')\n",
    "plt.xlabel('Runtime of Movies')\n",
    "plt.ylabel('Number of Movies')\n",
    "plt.savefig('runtime_distribution_movies.png');"
   ]
  },
  {
   "cell_type": "markdown",
   "metadata": {},
   "source": [
    "The runtime distribution of movies is right skewed. The mode of movies is around 90 minutes, which is nearly the \"sweet spot\" that I mentioned earlier for generating the most revenue."
   ]
  },
  {
   "cell_type": "code",
   "execution_count": 24,
   "metadata": {},
   "outputs": [
    {
     "data": {
      "image/png": "[encoded data removed]",
      "text/plain": [
       "<Figure size 360x360 with 1 Axes>"
      ]
     },
     "metadata": {},
     "output_type": "display_data"
    }
   ],
   "source": [
    "#plot the relationship between budget and runtime\n",
    "df_edited.plot(x='runtime', y='budget', kind='scatter', figsize=[5,5])\n",
    "\n",
    "plt.title('Budget vs Runtime', color='blue')\n",
    "plt.xlabel('Runtime (minutes)')\n",
    "plt.ylabel('Budget Available')\n",
    "plt.savefig('budget_runtime.png');"
   ]
  },
  {
   "cell_type": "markdown",
   "metadata": {},
   "source": [
    "Budget does seem to have an effect on runtime, but in an opposite way of what most people would think. If you have a higher budget, it would make sense that you would be able to use it to have a longer runtime. That being said, it seems like movies with the longest runtime actually had some of the lowest budgets available."
   ]
  },
  {
   "cell_type": "markdown",
   "metadata": {},
   "source": [
    "If you are a director and want to create a successful (in regards to revenue) movie, it would be in your best interest to aim for **100 minutes** of runtime. Additionally, you should **not worry about having an incredibly high budget**, because an average budget will generally do better."
   ]
  },
  {
   "cell_type": "markdown",
   "metadata": {},
   "source": [
    "### Who are the most active (# of movies created) directors?"
   ]
  },
  {
   "cell_type": "code",
   "execution_count": 25,
   "metadata": {
    "scrolled": true
   },
   "outputs": [
    {
     "data": {
      "text/plain": [
       "Woody Allen          45\n",
       "Clint Eastwood       34\n",
       "Martin Scorsese      29\n",
       "Steven Spielberg     29\n",
       "Ridley Scott         23\n",
       "Steven Soderbergh    22\n",
       "Ron Howard           22\n",
       "Joel Schumacher      21\n",
       "Brian De Palma       20\n",
       "Tim Burton           19\n",
       "Name: director, dtype: int64"
      ]
     },
     "execution_count": 25,
     "metadata": {},
     "output_type": "execute_result"
    }
   ],
   "source": [
    "#use value_counts to see who the most active director is\n",
    "count_directors = df_edited['director'].value_counts()\n",
    "#check to see how far ahead he is of the next directors\n",
    "count_directors.head(10)"
   ]
  },
  {
   "cell_type": "markdown",
   "metadata": {},
   "source": [
    "Woody Allen is the most active director with an incredible total of 45 movies directed. This is an incredible outlier compared to the rest of the data."
   ]
  },
  {
   "cell_type": "code",
   "execution_count": 26,
   "metadata": {},
   "outputs": [
    {
     "data": {
      "text/plain": [
       "budget         1.344559e+07\n",
       "revenue        3.937210e+07\n",
       "runtime        9.562222e+01\n",
       "budget_adj     1.809816e+07\n",
       "revenue_adj    5.512195e+07\n",
       "dtype: float64"
      ]
     },
     "execution_count": 26,
     "metadata": {},
     "output_type": "execute_result"
    }
   ],
   "source": [
    "# get the averages of Woody Allen's budget, revenue, runtime, and budget adjusted for inflation as well as revenue adjusted for inflation\n",
    "top_director_averages = df_edited.loc[df_edited['director'] == 'Woody Allen'].mean()\n",
    "top_director_averages"
   ]
  },
  {
   "cell_type": "markdown",
   "metadata": {},
   "source": [
    ">If we convert 9.562222e+01 from scientific notation to a real number, we get 95.62 minutes.\n",
    ">Movies that have around a 100 minute runtime seem to be the most successful. Woody Allen is not far off that mark on average, so let's see if he has a good budget to revenue ratio."
   ]
  },
  {
   "cell_type": "markdown",
   "metadata": {},
   "source": [
    ">Woody Allen's average budget is `$13,445,590` while his average revenue is `$39,372,100`. Adjusted for inflation, he is even more successful."
   ]
  },
  {
   "cell_type": "markdown",
   "metadata": {},
   "source": [
    "<a id='cf'></a>\n",
    "## Conclusions & Findings\n"
   ]
  },
  {
   "cell_type": "markdown",
   "metadata": {},
   "source": [
    "### What is the relationship between budget and revenue? (Does budget play a large role in revenue?)\n",
    "A larget budget does not seem to generate larger revenue numbers. Adjusted for inflation, a larger budget once again does not seem to generate larger revenue numbers. That being said, when adjusted for inflation, it does seem that many movies were actually more successful (in regards to revenue generated) on a lower budget.\n",
    "\n",
    "\n",
    "### Does runtime increase or decrease revenue? Does budget have an effect on runtime?\n",
    "Revenue does seem to be effected by runtime.\n",
    "\n",
    "<il>\n",
    "    <li>Movies that have a runtime of <b>less than 90 minutes</b> make <b>SIGNIFICANTLY</b> less revenue.</li>\n",
    "    <li>Movies that have a runtime of <b>more than 200 minutes</b> make <b>SIGNIFICANTLY</b> less revenue.</li>\n",
    "    <li>Movies that have an <b>average runtime of about 100 minutes</b> (1hour, 30 minutes) seem to generate the most revenue.</li>\n",
    "</ul>\n",
    "\n",
    "#### What is the distribution of runtime across all movies?\n",
    "The mode of movies is about 90 minutes. The runtime distribution of movies is also right skewed.\n",
    "\n",
    "### Who is the most active (# of movies created) director?\n",
    "Woody Allen is the most active director. He has directed 45 movies.\n",
    "\n",
    "##### How does that director relate to the relationships between budget, revenue, and runtime?\n",
    " Woody Allen's average runtime for all of his 45 movies is <b>95.62 minutes</b>. That is extremely close to the 100 minute runtime mark that seems to be an indicator for the most revenue generation.\n",
    "\n",
    "He also has a great revenue to budget ratio.\n",
    "<il>\n",
    "    <li>Woody Allen's average budget: `$13,445,590`</li>\n",
    "    <li>Woody Allen's average revenue: `$39,372,100`</li>\n",
    "    <li>Adjusted for inflation, Woody Allen has an even better revenue to budget ratio at nearly 1:5.</li>\n",
    "</ul>"
   ]
  }
 ],
 "metadata": {
  "kernelspec": {
   "display_name": "Python 3",
   "language": "python",
   "name": "python3"
  },
  "language_info": {
   "codemirror_mode": {
    "name": "ipython",
    "version": 3
   },
   "file_extension": ".py",
   "mimetype": "text/x-python",
   "name": "python",
   "nbconvert_exporter": "python",
   "pygments_lexer": "ipython3",
   "version": "3.7.7"
  }
 },
 "nbformat": 4,
 "nbformat_minor": 2
}
